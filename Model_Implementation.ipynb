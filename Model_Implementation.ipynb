{
 "cells": [
  {
   "cell_type": "code",
   "execution_count": 3,
   "id": "ac179978-d298-4a4f-8bab-53e695748194",
   "metadata": {},
   "outputs": [],
   "source": [
    "import pandas as pd\n",
    "\n",
    "# Load datasets\n",
    "customers_df = pd.read_csv('customers2afd6ea.csv')\n",
    "reason_df = pd.read_csv('reason18315ff.csv')\n",
    "sentiment_df = pd.read_csv('sentiment_statisticscc1e57a.csv')\n",
    "test_df = pd.read_csv('testbc7185d.csv')\n",
    "call_logs_df = pd.read_csv('callsf0d4f5a.csv') \n",
    "\n",
    "# Merge datasets on `call_id`\n",
    "merged_df = call_logs_df.merge(reason_df, on='call_id', how='left')\n",
    "merged_df = merged_df.merge(sentiment_df, on=['call_id', 'agent_id'], how='left')\n",
    "merged_df = merged_df.merge(customers_df, on='customer_id', how='left')"
   ]
  },
  {
   "cell_type": "code",
   "execution_count": 5,
   "id": "17fe29c9-d148-47fc-b910-2edaf96a551b",
   "metadata": {},
   "outputs": [],
   "source": [
    "# Convert datetime columns to datetime format\n",
    "merged_df['call_start_datetime'] = pd.to_datetime(merged_df['call_start_datetime'])\n",
    "merged_df['agent_assigned_datetime'] = pd.to_datetime(merged_df['agent_assigned_datetime'])\n",
    "merged_df['call_end_datetime'] = pd.to_datetime(merged_df['call_end_datetime'])\n",
    "\n",
    "# Calculate AHT and AST in seconds\n",
    "merged_df['AHT'] = (merged_df['call_end_datetime'] - merged_df['agent_assigned_datetime']).dt.total_seconds()\n",
    "merged_df['AST'] = (merged_df['agent_assigned_datetime'] - merged_df['call_start_datetime']).dt.total_seconds()\n",
    "\n",
    "# Remove rows with missing target for training data\n",
    "training_data = merged_df.dropna(subset=['primary_call_reason'])"
   ]
  },
  {
   "cell_type": "code",
   "execution_count": 11,
   "id": "a42389bf-e458-481c-b315-4bf9bb2b487f",
   "metadata": {},
   "outputs": [],
   "source": [
    "# One-hot encoding for categorical variables\n",
    "training_data_encoded = pd.get_dummies(training_data, \n",
    "                                       columns=['agent_tone', 'customer_tone'],\n",
    "                                       drop_first=True)\n",
    "\n",
    "# Select features and target\n",
    "X = training_data_encoded[['AHT', 'AST', 'average_sentiment', 'silence_percent_average'] +\n",
    "                          [col for col in training_data_encoded.columns if 'tone_' in col]]\n",
    "y = training_data_encoded['primary_call_reason']\n",
    "\n",
    "# Fill missing values in numerical features, e.g., `average_sentiment`\n",
    "X.loc[:, 'average_sentiment'] = X['average_sentiment'].fillna(X['average_sentiment'].median())"
   ]
  },
  {
   "cell_type": "code",
   "execution_count": 13,
   "id": "6281cadd-d012-4079-b372-fae3882772ba",
   "metadata": {},
   "outputs": [
    {
     "name": "stdout",
     "output_type": "stream",
     "text": [
      "Validation Accuracy: 0.319255869777211\n"
     ]
    }
   ],
   "source": [
    "from sklearn.model_selection import train_test_split\n",
    "from sklearn.ensemble import RandomForestClassifier\n",
    "from sklearn.metrics import accuracy_score\n",
    "\n",
    "# Split the data\n",
    "X_train, X_val, y_train, y_val = train_test_split(X, y, test_size=0.2, random_state=42)\n",
    "\n",
    "# Initialize and train the model\n",
    "rf_model = RandomForestClassifier(random_state=42, n_jobs=-1)\n",
    "rf_model.fit(X_train, y_train)\n",
    "\n",
    "# Validate model\n",
    "y_val_pred = rf_model.predict(X_val)\n",
    "val_accuracy = accuracy_score(y_val, y_val_pred)\n",
    "print(\"Validation Accuracy:\", val_accuracy)"
   ]
  },
  {
   "cell_type": "code",
   "execution_count": 15,
   "id": "f97c3fda-e068-465b-8c3b-780a381fcf98",
   "metadata": {},
   "outputs": [],
   "source": [
    "# Prepare test data by merging with other datasets\n",
    "test_merged = test_df.merge(call_logs_df, on='call_id', how='left')\n",
    "test_merged = test_merged.merge(sentiment_df, on=['call_id', 'agent_id'], how='left')\n",
    "test_merged = test_merged.merge(customers_df, on='customer_id', how='left')\n",
    "\n",
    "# Feature engineering on test data\n",
    "test_merged['call_start_datetime'] = pd.to_datetime(test_merged['call_start_datetime'])\n",
    "test_merged['agent_assigned_datetime'] = pd.to_datetime(test_merged['agent_assigned_datetime'])\n",
    "test_merged['call_end_datetime'] = pd.to_datetime(test_merged['call_end_datetime'])\n",
    "\n",
    "# Calculate AHT and AST for test data\n",
    "test_merged['AHT'] = (test_merged['call_end_datetime'] - test_merged['agent_assigned_datetime']).dt.total_seconds()\n",
    "test_merged['AST'] = (test_merged['agent_assigned_datetime'] - test_merged['call_start_datetime']).dt.total_seconds()\n",
    "\n",
    "# Encode categorical features in the test data\n",
    "test_encoded = pd.get_dummies(test_merged, \n",
    "                              columns=['agent_tone', 'customer_tone'],\n",
    "                              drop_first=True)\n",
    "\n",
    "# Align columns with the training data\n",
    "test_encoded = test_encoded.reindex(columns=X.columns, fill_value=0)\n",
    "\n",
    "# Predict on test data\n",
    "test_predictions = rf_model.predict(test_encoded)\n",
    "\n",
    "# Prepare submission\n",
    "test_df['primary_call_reason'] = test_predictions\n",
    "test_df.to_csv('test_yourname.csv', index=False)"
   ]
  },
  {
   "cell_type": "code",
   "execution_count": null,
   "id": "6e7c2b4e-de17-4fef-9bc8-b8e2390220c1",
   "metadata": {},
   "outputs": [],
   "source": []
  }
 ],
 "metadata": {
  "kernelspec": {
   "display_name": "Python 3 (ipykernel)",
   "language": "python",
   "name": "python3"
  },
  "language_info": {
   "codemirror_mode": {
    "name": "ipython",
    "version": 3
   },
   "file_extension": ".py",
   "mimetype": "text/x-python",
   "name": "python",
   "nbconvert_exporter": "python",
   "pygments_lexer": "ipython3",
   "version": "3.12.4"
  }
 },
 "nbformat": 4,
 "nbformat_minor": 5
}
